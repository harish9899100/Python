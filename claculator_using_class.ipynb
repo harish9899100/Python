{
 "cells": [
  {
   "cell_type": "code",
   "execution_count": null,
   "id": "3e3f1271-1d00-4fe6-84c4-8ffeaa830437",
   "metadata": {},
   "outputs": [
    {
     "name": "stdout",
     "output_type": "stream",
     "text": [
      "Enter your first number : 20\n",
      "Enter your second number:  0\n"
     ]
    },
    {
     "name": "stdout",
     "output_type": "stream",
     "text": [
      "add :  20\n",
      "subtracat : 20\n",
      "multipy :  0\n",
      "divide : Zero Division Error \n"
     ]
    }
   ],
   "source": [
    "# i try to make calculator using class and objects in python\n",
    "class calculator:\n",
    "    def __init__(self, num1, num2):\n",
    "        self.num1 = num1\n",
    "        self.num2 = num2\n",
    "    def add(self):\n",
    "        return self.num1 + self.num2\n",
    "    def sub(self):\n",
    "        return self.num1 - self.num2\n",
    "    def multy(self):\n",
    "        return self.num1 * self.num2\n",
    "    def div(self):\n",
    "        if num2 == 0:\n",
    "            return(\"Zero Division Error \")\n",
    "        return self.num1 / self.num2\n",
    "num1 = int(input(\"Enter your first number :\"))\n",
    "num2 = int(input(\"Enter your second number: \"))\n",
    "calc = calculator(num1, num2)\n",
    "print(\"add : \", calc.add())\n",
    "print(\"subtracat :\", calc.sub())\n",
    "print(\"multipy : \", calc.multy())\n",
    "print(\"divide :\", calc.div())"
   ]
  }
 ],
 "metadata": {
  "kernelspec": {
   "display_name": "Python 3 (ipykernel)",
   "language": "python",
   "name": "python3"
  },
  "language_info": {
   "codemirror_mode": {
    "name": "ipython",
    "version": 3
   },
   "file_extension": ".py",
   "mimetype": "text/x-python",
   "name": "python",
   "nbconvert_exporter": "python",
   "pygments_lexer": "ipython3",
   "version": "3.10.12"
  }
 },
 "nbformat": 4,
 "nbformat_minor": 5
}
