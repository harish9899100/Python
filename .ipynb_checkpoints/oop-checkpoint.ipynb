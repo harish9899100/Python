{
 "cells": [
  {
   "cell_type": "code",
   "execution_count": null,
   "id": "6d41773a-c1d5-4203-83da-745dc2e514d6",
   "metadata": {},
   "outputs": [],
   "source": [
    "class Car:\n",
    "    def __init__(self, company, name):\n",
    "        self.company = company\n",
    "        self.name = name\n",
    "        print(f\"Car's company is :{self.company}\\nThe car name is : {self.name}\")\n",
    "\n",
    "    def dog(self,name, age):\n",
    "        self.name = name\n",
    "        self.age = age\n",
    "        print(f\"The age of dog is : {self.age}\\nThe name of dog is : {self.name}\")\n",
    "a = Car(\"Mahindra\", \"Thar\")\n",
    "b = Car(\"Mahindra\", \"Scorpio\")\n",
    "a.dog(\"jo\", 4)\n"
   ]
  },
  {
   "cell_type": "code",
   "execution_count": null,
   "id": "e55f3d34-ab78-49b5-b770-93355c38cfb8",
   "metadata": {},
   "outputs": [],
   "source": []
  }
 ],
 "metadata": {
  "kernelspec": {
   "display_name": "Python 3 (ipykernel)",
   "language": "python",
   "name": "python3"
  },
  "language_info": {
   "codemirror_mode": {
    "name": "ipython",
    "version": 3
   },
   "file_extension": ".py",
   "mimetype": "text/x-python",
   "name": "python",
   "nbconvert_exporter": "python",
   "pygments_lexer": "ipython3",
   "version": "3.10.12"
  }
 },
 "nbformat": 4,
 "nbformat_minor": 5
}
