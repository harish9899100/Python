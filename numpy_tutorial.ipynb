{
 "cells": [
  {
   "cell_type": "code",
   "execution_count": 2,
   "id": "6235ad1d-65a3-4d45-a5ec-1e8a6068114d",
   "metadata": {},
   "outputs": [
    {
     "name": "stdout",
     "output_type": "stream",
     "text": [
      "(array([1, 4]),)\n"
     ]
    }
   ],
   "source": [
    "import numpy as np\n",
    "arr = np.array([23,6,34,45,6])\n",
    "arr_fillter = np.where(arr == 6)\n",
    "print(arr_fillter)"
   ]
  },
  {
   "cell_type": "code",
   "execution_count": 3,
   "id": "c21dc54e-2614-4a0d-92fa-8b0b07e2830d",
   "metadata": {},
   "outputs": [
    {
     "name": "stdout",
     "output_type": "stream",
     "text": [
      "[23  6 34 45  6]\n"
     ]
    }
   ],
   "source": [
    "print(arr)"
   ]
  },
  {
   "cell_type": "code",
   "execution_count": 8,
   "id": "01080e3e-3732-4eba-ae26-a4b68b0c24a9",
   "metadata": {},
   "outputs": [
    {
     "name": "stdout",
     "output_type": "stream",
     "text": [
      "[False  True  True False  True]\n",
      "[ 6 34  6]\n"
     ]
    }
   ],
   "source": [
    "a = arr_fillter = arr%2 == 0\n",
    "print(arr_fillter)\n",
    "print(arr[arr_fillter]) "
   ]
  },
  {
   "cell_type": "code",
   "execution_count": 20,
   "id": "b17ec5fb-82a6-4a77-bdb5-531d848d2626",
   "metadata": {},
   "outputs": [
    {
     "name": "stdout",
     "output_type": "stream",
     "text": [
      "4\n"
     ]
    }
   ],
   "source": [
    "c = np.array([5], ndmin=4)      # we can give the dimantation of array\n",
    "print(np.ndim(c))                  # we can check dimantation of array"
   ]
  },
  {
   "cell_type": "code",
   "execution_count": 23,
   "id": "4b60e0c2-1b06-4661-a786-0cd5ff0c1722",
   "metadata": {},
   "outputs": [
    {
     "name": "stdout",
     "output_type": "stream",
     "text": [
      "[ 0  2  3  3  5  5  6  8 78 89]\n",
      "<class 'numpy.ndarray'>\n"
     ]
    }
   ],
   "source": [
    "a = np.array([3,5,6,78,89,8,3,0,5])\n",
    "print(np.sort(a))\n",
    "print(type(a))"
   ]
  },
  {
   "cell_type": "code",
   "execution_count": 34,
   "id": "3ef84a89-57fb-4c93-856d-19793bae2e95",
   "metadata": {},
   "outputs": [
    {
     "name": "stdout",
     "output_type": "stream",
     "text": [
      "[ 2 45 56  2]\n"
     ]
    }
   ],
   "source": [
    "a = np.array([2,34, 45, 56,7,2,2, 9])\n",
    "x = [True, False, True, True, False, True, False, False]\n",
    "newarr = a[x]\n",
    "print(newarr)\n",
    "\n"
   ]
  },
  {
   "cell_type": "code",
   "execution_count": 36,
   "id": "6f8d12f0-aad7-4ab4-92a3-c7dddbe5f597",
   "metadata": {},
   "outputs": [
    {
     "name": "stdout",
     "output_type": "stream",
     "text": [
      "(array([0, 5, 6]),)\n"
     ]
    }
   ],
   "source": [
    "a = np.array([2, 3,4,5,6,2,2,7,8,9])\n",
    "b = np.where(a == 2)\n",
    "print(b)"
   ]
  },
  {
   "cell_type": "code",
   "execution_count": 48,
   "id": "dc0e0715-2fcf-4a4a-9e6c-328cb69a36f4",
   "metadata": {},
   "outputs": [
    {
     "name": "stdout",
     "output_type": "stream",
     "text": [
      "(array([1, 2, 4, 6]),)\n",
      "(array([0, 3, 5]),)\n"
     ]
    }
   ],
   "source": [
    "a = np.array([3,4,6,7,8,9,0])\n",
    "b = np.where(a %2 == 0)\n",
    "print(b)\n",
    "c = np.where(a %2 != 0)\n",
    "print(c)"
   ]
  },
  {
   "cell_type": "code",
   "execution_count": 51,
   "id": "0a64c3d8-721f-4b01-9fff-56f7063194f6",
   "metadata": {},
   "outputs": [
    {
     "name": "stdout",
     "output_type": "stream",
     "text": [
      "[ 2  4  3  5  6 22 33 44 55]\n"
     ]
    }
   ],
   "source": [
    "arr1 = np.array([2,4,3,5,6,])\n",
    "arr2 = np.array([22,33,44,55])\n",
    "arr3 = np.concatenate((arr1, arr2))\n",
    "print(arr3)"
   ]
  },
  {
   "cell_type": "code",
   "execution_count": null,
   "id": "636cf986-fc0d-414e-9e96-4be3ecf1e146",
   "metadata": {},
   "outputs": [],
   "source": []
  },
  {
   "cell_type": "code",
   "execution_count": null,
   "id": "dd4f39d8-4085-4cb5-ae56-a379f96365c1",
   "metadata": {},
   "outputs": [],
   "source": []
  },
  {
   "cell_type": "code",
   "execution_count": null,
   "id": "b92c5eb0-5533-41c6-b873-22de63a189bb",
   "metadata": {},
   "outputs": [],
   "source": []
  },
  {
   "cell_type": "code",
   "execution_count": null,
   "id": "50dc5b7d-d307-4e14-9eb3-42cd1503ac81",
   "metadata": {},
   "outputs": [],
   "source": []
  },
  {
   "cell_type": "code",
   "execution_count": null,
   "id": "031950d2-2322-4f69-a708-76aa99b8c8a2",
   "metadata": {},
   "outputs": [],
   "source": []
  },
  {
   "cell_type": "code",
   "execution_count": null,
   "id": "961d0f08-b9b6-42e7-bdaa-9ff223ed6c68",
   "metadata": {},
   "outputs": [],
   "source": []
  },
  {
   "cell_type": "code",
   "execution_count": null,
   "id": "2d5a066d-e6e3-4112-9f52-1700ba349d96",
   "metadata": {},
   "outputs": [],
   "source": []
  },
  {
   "cell_type": "code",
   "execution_count": null,
   "id": "6069f511-4ae4-40d9-abfa-5d933e0c8f0a",
   "metadata": {},
   "outputs": [],
   "source": []
  },
  {
   "cell_type": "code",
   "execution_count": null,
   "id": "76f9054b-35be-49bf-97c7-b092c2b7e26a",
   "metadata": {},
   "outputs": [],
   "source": []
  }
 ],
 "metadata": {
  "kernelspec": {
   "display_name": "Python 3 (ipykernel)",
   "language": "python",
   "name": "python3"
  },
  "language_info": {
   "codemirror_mode": {
    "name": "ipython",
    "version": 3
   },
   "file_extension": ".py",
   "mimetype": "text/x-python",
   "name": "python",
   "nbconvert_exporter": "python",
   "pygments_lexer": "ipython3",
   "version": "3.10.12"
  }
 },
 "nbformat": 4,
 "nbformat_minor": 5
}
