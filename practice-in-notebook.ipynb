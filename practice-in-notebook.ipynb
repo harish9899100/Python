{
 "cells": [
  {
   "cell_type": "code",
   "execution_count": 21,
   "id": "64309115-ebbb-475f-a1de-aecda7fbdb47",
   "metadata": {},
   "outputs": [
    {
     "name": "stdout",
     "output_type": "stream",
     "text": [
      "The addiction  is : 12\n",
      "The diffrance is : 10\n",
      "The multyplication is : 25\n",
      "The devide value is :: 5.0\n"
     ]
    }
   ],
   "source": [
    "def add(a, b):\n",
    "    return a + b\n",
    "def diff(a, b):\n",
    "    return a - b\n",
    "def mult(a, b):\n",
    "    return a * b\n",
    "def div(a, b):\n",
    "    return a / b\n",
    "a = add(5, 7)\n",
    "print(\"The addiction  is :\", a)\n",
    "b = diff(25, 15)\n",
    "print(\"The diffrance is :\", b)\n",
    "c = mult(5, 5)\n",
    "print(\"The multyplication is :\", c)\n",
    "d = div(10,2)\n",
    "print(\"The devide value is ::\", d)"
   ]
  },
  {
   "cell_type": "code",
   "execution_count": null,
   "id": "66f05220-91a5-447b-aa72-150210c8d41d",
   "metadata": {},
   "outputs": [],
   "source": []
  }
 ],
 "metadata": {
  "kernelspec": {
   "display_name": "Python 3 (ipykernel)",
   "language": "python",
   "name": "python3"
  },
  "language_info": {
   "codemirror_mode": {
    "name": "ipython",
    "version": 3
   },
   "file_extension": ".py",
   "mimetype": "text/x-python",
   "name": "python",
   "nbconvert_exporter": "python",
   "pygments_lexer": "ipython3",
   "version": "3.10.12"
  }
 },
 "nbformat": 4,
 "nbformat_minor": 5
}
