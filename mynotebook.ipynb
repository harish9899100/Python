{
 "cells": [
  {
   "cell_type": "code",
   "execution_count": 21,
   "id": "23cc10dc-5651-4af2-a045-bf23ace4bbe5",
   "metadata": {},
   "outputs": [],
   "source": [
    "# this is my personl nootbook"
   ]
  },
  {
   "cell_type": "code",
   "execution_count": 23,
   "id": "26a53002-600f-4548-8091-2a3ca4b6fee8",
   "metadata": {},
   "outputs": [],
   "source": [
    "from person import Person"
   ]
  },
  {
   "cell_type": "code",
   "execution_count": 25,
   "id": "e2ebc8bc-990d-475b-a914-e7cb4074e728",
   "metadata": {},
   "outputs": [],
   "source": [
    "p1 = Person(\"rohit\", 22)"
   ]
  },
  {
   "cell_type": "code",
   "execution_count": 26,
   "id": "312365ff-4e81-4222-ae9b-4e71347c8304",
   "metadata": {},
   "outputs": [
    {
     "data": {
      "text/plain": [
       "'rohit'"
      ]
     },
     "execution_count": 26,
     "metadata": {},
     "output_type": "execute_result"
    }
   ],
   "source": [
    "p1.name"
   ]
  },
  {
   "cell_type": "code",
   "execution_count": 27,
   "id": "c268f373-8639-4b9e-b551-f466b6f9e5e6",
   "metadata": {},
   "outputs": [
    {
     "data": {
      "text/plain": [
       "22"
      ]
     },
     "execution_count": 27,
     "metadata": {},
     "output_type": "execute_result"
    }
   ],
   "source": [
    "p1.age"
   ]
  },
  {
   "cell_type": "code",
   "execution_count": null,
   "id": "f225606f-74f5-46ee-9e33-e33470d3eea4",
   "metadata": {},
   "outputs": [],
   "source": []
  }
 ],
 "metadata": {
  "kernelspec": {
   "display_name": "Python 3 (ipykernel)",
   "language": "python",
   "name": "python3"
  },
  "language_info": {
   "codemirror_mode": {
    "name": "ipython",
    "version": 3
   },
   "file_extension": ".py",
   "mimetype": "text/x-python",
   "name": "python",
   "nbconvert_exporter": "python",
   "pygments_lexer": "ipython3",
   "version": "3.10.12"
  }
 },
 "nbformat": 4,
 "nbformat_minor": 5
}
