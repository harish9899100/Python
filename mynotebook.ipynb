{
 "cells": [
  {
   "cell_type": "code",
   "execution_count": 21,
   "id": "23cc10dc-5651-4af2-a045-bf23ace4bbe5",
   "metadata": {},
   "outputs": [],
   "source": [
    "# this is my personl nootbook"
   ]
  },
  {
   "cell_type": "code",
   "execution_count": 22,
   "id": "be7d9440-1719-4d57-b37d-a371f03e375d",
   "metadata": {},
   "outputs": [
    {
     "ename": "SyntaxError",
     "evalue": "invalid syntax (4016119815.py, line 1)",
     "output_type": "error",
     "traceback": [
      "\u001b[0;36m  Cell \u001b[0;32mIn[22], line 1\u001b[0;36m\u001b[0m\n\u001b[0;31m    form person import Person\u001b[0m\n\u001b[0m         ^\u001b[0m\n\u001b[0;31mSyntaxError\u001b[0m\u001b[0;31m:\u001b[0m invalid syntax\n"
     ]
    }
   ],
   "source": [
    "form person import Person"
   ]
  },
  {
   "cell_type": "code",
   "execution_count": null,
   "id": "26a53002-600f-4548-8091-2a3ca4b6fee8",
   "metadata": {},
   "outputs": [],
   "source": []
  }
 ],
 "metadata": {
  "kernelspec": {
   "display_name": "Python 3 (ipykernel)",
   "language": "python",
   "name": "python3"
  },
  "language_info": {
   "codemirror_mode": {
    "name": "ipython",
    "version": 3
   },
   "file_extension": ".py",
   "mimetype": "text/x-python",
   "name": "python",
   "nbconvert_exporter": "python",
   "pygments_lexer": "ipython3",
   "version": "3.10.12"
  }
 },
 "nbformat": 4,
 "nbformat_minor": 5
}
