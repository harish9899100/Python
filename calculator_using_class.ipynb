{
 "cells": [
  {
   "cell_type": "code",
   "execution_count": 1,
   "id": "3e3f1271-1d00-4fe6-84c4-8ffeaa830437",
   "metadata": {},
   "outputs": [
    {
     "name": "stdout",
     "output_type": "stream",
     "text": [
      "Monthly Salary Report\n",
      "Total_Regular_Hours                 160.0\n",
      "Total_Overtime_Hours                  4.0\n",
      "Regular_Pay                    Rs.70400.0\n",
      "Overtime_Pay                    Rs.2640.0\n",
      "Deduction_for_Unpaid_Leave        Rs.3520\n",
      "Gross_Salary                  Rs.69520.00\n",
      "dtype: object\n"
     ]
    }
   ],
   "source": [
    "from timesheet_salary_calculation import calculate_monthly_salary"
   ]
  },
  {
   "cell_type": "code",
   "execution_count": 6,
   "id": "35b7bff3-905b-447a-a8ba-61dbe5f379d4",
   "metadata": {},
   "outputs": [],
   "source": [
    "employee_hourly_rate = 440\n",
    "overtime_multiplier = 1.5"
   ]
  },
  {
   "cell_type": "code",
   "execution_count": null,
   "id": "6878b3a7-40c0-4cd5-80c1-4cd07199841f",
   "metadata": {},
   "outputs": [],
   "source": []
  }
 ],
 "metadata": {
  "kernelspec": {
   "display_name": "Python 3 (ipykernel)",
   "language": "python",
   "name": "python3"
  },
  "language_info": {
   "codemirror_mode": {
    "name": "ipython",
    "version": 3
   },
   "file_extension": ".py",
   "mimetype": "text/x-python",
   "name": "python",
   "nbconvert_exporter": "python",
   "pygments_lexer": "ipython3",
   "version": "3.10.12"
  }
 },
 "nbformat": 4,
 "nbformat_minor": 5
}
